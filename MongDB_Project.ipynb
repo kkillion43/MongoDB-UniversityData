{
 "cells": [
  {
   "cell_type": "markdown",
   "metadata": {},
   "source": [
    "# My MongoDB Project 2\n",
    "\n",
    "### By: Kyle Killion\n",
    "__Goals of the Project__:\n",
    "* Load Dependencies of the Project using Python\n",
    "* Connect to MySQL University DataBase\n",
    "* Convert into Pandas DataFrame and/or CSVs\n",
    "* __Init__ MongoDB\n",
    "* Write the Data to MongoDB\n",
    "* Conduct a query within MongoDB to find \n",
    "  salaries greater than the mean"
   ]
  },
  {
   "cell_type": "code",
   "execution_count": 6,
   "metadata": {
    "collapsed": false
   },
   "outputs": [
    {
     "name": "stdout",
     "output_type": "stream",
     "text": [
      "PWD: no no no \n"
     ]
    },
    {
     "ename": "OperationalError",
     "evalue": "(1045, \"Access denied for user 'root'@'localhost' (using password: YES)\")",
     "output_type": "error",
     "traceback": [
      "\u001b[0;31m---------------------------------------------------------------------------\u001b[0m",
      "\u001b[0;31mOperationalError\u001b[0m                          Traceback (most recent call last)",
      "\u001b[0;32m<ipython-input-6-a6213df35339>\u001b[0m in \u001b[0;36m<module>\u001b[0;34m()\u001b[0m\n\u001b[1;32m     10\u001b[0m                        \u001b[0muser\u001b[0m \u001b[1;33m=\u001b[0m \u001b[1;34m'root'\u001b[0m\u001b[1;33m,\u001b[0m\u001b[1;33m\u001b[0m\u001b[0m\n\u001b[1;32m     11\u001b[0m                        \u001b[0mpasswd\u001b[0m \u001b[1;33m=\u001b[0m \u001b[0minput\u001b[0m\u001b[1;33m(\u001b[0m\u001b[1;34m'PWD: '\u001b[0m\u001b[1;33m)\u001b[0m\u001b[1;33m,\u001b[0m\u001b[1;33m\u001b[0m\u001b[0m\n\u001b[0;32m---> 12\u001b[0;31m                        db = 'university')\n\u001b[0m\u001b[1;32m     13\u001b[0m \u001b[1;33m\u001b[0m\u001b[0m\n\u001b[1;32m     14\u001b[0m \u001b[1;31m#Get the Tables in the DB\u001b[0m\u001b[1;33m\u001b[0m\u001b[1;33m\u001b[0m\u001b[0m\n",
      "\u001b[0;32mC:\\Anaconda3\\Lib\\site-packages\\MySQLdb\\__init__.py\u001b[0m in \u001b[0;36mConnect\u001b[0;34m(*args, **kwargs)\u001b[0m\n\u001b[1;32m     79\u001b[0m     \u001b[1;34m\"\"\"Factory function for connections.Connection.\"\"\"\u001b[0m\u001b[1;33m\u001b[0m\u001b[0m\n\u001b[1;32m     80\u001b[0m     \u001b[1;32mfrom\u001b[0m \u001b[0mMySQLdb\u001b[0m\u001b[1;33m.\u001b[0m\u001b[0mconnections\u001b[0m \u001b[1;32mimport\u001b[0m \u001b[0mConnection\u001b[0m\u001b[1;33m\u001b[0m\u001b[0m\n\u001b[0;32m---> 81\u001b[0;31m     \u001b[1;32mreturn\u001b[0m \u001b[0mConnection\u001b[0m\u001b[1;33m(\u001b[0m\u001b[1;33m*\u001b[0m\u001b[0margs\u001b[0m\u001b[1;33m,\u001b[0m \u001b[1;33m**\u001b[0m\u001b[0mkwargs\u001b[0m\u001b[1;33m)\u001b[0m\u001b[1;33m\u001b[0m\u001b[0m\n\u001b[0m\u001b[1;32m     82\u001b[0m \u001b[1;33m\u001b[0m\u001b[0m\n\u001b[1;32m     83\u001b[0m \u001b[0mconnect\u001b[0m \u001b[1;33m=\u001b[0m \u001b[0mConnection\u001b[0m \u001b[1;33m=\u001b[0m \u001b[0mConnect\u001b[0m\u001b[1;33m\u001b[0m\u001b[0m\n",
      "\u001b[0;32mC:\\Anaconda3\\Lib\\site-packages\\MySQLdb\\connections.py\u001b[0m in \u001b[0;36m__init__\u001b[0;34m(self, *args, **kwargs)\u001b[0m\n\u001b[1;32m    189\u001b[0m         \u001b[0mself\u001b[0m\u001b[1;33m.\u001b[0m\u001b[0mwaiter\u001b[0m \u001b[1;33m=\u001b[0m \u001b[0mkwargs2\u001b[0m\u001b[1;33m.\u001b[0m\u001b[0mpop\u001b[0m\u001b[1;33m(\u001b[0m\u001b[1;34m'waiter'\u001b[0m\u001b[1;33m,\u001b[0m \u001b[1;32mNone\u001b[0m\u001b[1;33m)\u001b[0m\u001b[1;33m\u001b[0m\u001b[0m\n\u001b[1;32m    190\u001b[0m \u001b[1;33m\u001b[0m\u001b[0m\n\u001b[0;32m--> 191\u001b[0;31m         \u001b[0msuper\u001b[0m\u001b[1;33m(\u001b[0m\u001b[0mConnection\u001b[0m\u001b[1;33m,\u001b[0m \u001b[0mself\u001b[0m\u001b[1;33m)\u001b[0m\u001b[1;33m.\u001b[0m\u001b[0m__init__\u001b[0m\u001b[1;33m(\u001b[0m\u001b[1;33m*\u001b[0m\u001b[0margs\u001b[0m\u001b[1;33m,\u001b[0m \u001b[1;33m**\u001b[0m\u001b[0mkwargs2\u001b[0m\u001b[1;33m)\u001b[0m\u001b[1;33m\u001b[0m\u001b[0m\n\u001b[0m\u001b[1;32m    192\u001b[0m         \u001b[0mself\u001b[0m\u001b[1;33m.\u001b[0m\u001b[0mcursorclass\u001b[0m \u001b[1;33m=\u001b[0m \u001b[0mcursorclass\u001b[0m\u001b[1;33m\u001b[0m\u001b[0m\n\u001b[1;32m    193\u001b[0m         self.encoders = dict([ (k, v) for k, v in conv.items()\n",
      "\u001b[0;31mOperationalError\u001b[0m: (1045, \"Access denied for user 'root'@'localhost' (using password: YES)\")"
     ]
    }
   ],
   "source": [
    "#Load Dependencies\n",
    "import pandas as pd\n",
    "import pymongo as mdb\n",
    "import MySQLdb\n",
    "import pandas.io.sql as psql\n",
    "\n",
    "#Establish Connection to MySQLDataBase::University\n",
    "cnxn = MySQLdb.connect(host = 'localhost',\n",
    "                       user = 'root',\n",
    "                       passwd = input('PWD: '),\n",
    "                       db = 'university')\n",
    "\n",
    "#Get the Tables in the DB\n",
    "cur = cnxn.cursor()\n",
    "cur.execute(\"SHOW tables\")\n",
    "tables = cur.fetchall()\n",
    "\n",
    "#Use Tables to Loop through and build DataFrame\n",
    "df = pd.DataFrame()\n",
    "for table in tables:\n",
    "   \n",
    "    try:\n",
    "        sql = \"SELECT * FROM %s\" % table\n",
    "\n",
    "        #Uncomment if you want to write all the files to your desktop\n",
    "        #df = psql.read_sql(sql, cnxn)\n",
    "        #df.to_csv(r'C:/Users/hb13316/Desktop/%s.csv' % table)\n",
    "        \n",
    "        df = df.append(psql.read_sql(sql, cnxn))\n",
    "        \n",
    "    except Exception as e:\n",
    "        print(str(e), 'found nothing')\n",
    "        pass\n",
    "        \n",
    "#Close Connection\n",
    "cur.close()\n",
    "cnxn.close()\n",
    "\n",
    "\n"
   ]
  },
  {
   "cell_type": "markdown",
   "metadata": {},
   "source": [
    "# Look at the DataBase Info\n",
    "<hr>"
   ]
  },
  {
   "cell_type": "code",
   "execution_count": 3,
   "metadata": {
    "collapsed": false
   },
   "outputs": [
    {
     "name": "stdout",
     "output_type": "stream",
     "text": [
      "<class 'pandas.core.frame.DataFrame'>\n",
      "Int64Index: 29928 entries, 0 to 19\n",
      "Data columns (total 40 columns):\n",
      "Address_1       0 non-null object\n",
      "Budget          0 non-null object\n",
      "City_1          0 non-null object\n",
      "Email           0 non-null object\n",
      "F_Name          0 non-null object\n",
      "ID              62 non-null object\n",
      "L_Name          0 non-null object\n",
      "M_Name          0 non-null object\n",
      "Password        0 non-null object\n",
      "State_1         0 non-null object\n",
      "Status          0 non-null object\n",
      "User_id         0 non-null object\n",
      "Zip_1           0 non-null object\n",
      "budget          7 non-null float64\n",
      "building        27 non-null object\n",
      "capacity        5 non-null float64\n",
      "city            29738 non-null object\n",
      "course_id       72 non-null object\n",
      "credits         13 non-null float64\n",
      "day             20 non-null object\n",
      "dept_name       45 non-null object\n",
      "end_hr          20 non-null float64\n",
      "end_min         20 non-null float64\n",
      "grade           21 non-null object\n",
      "i_ID            9 non-null object\n",
      "name            25 non-null object\n",
      "prereq_id       7 non-null object\n",
      "room_number     20 non-null object\n",
      "s_ID            9 non-null object\n",
      "salary          12 non-null float64\n",
      "sec_id          52 non-null object\n",
      "semester        52 non-null object\n",
      "start_hr        20 non-null float64\n",
      "start_min       20 non-null float64\n",
      "state           52 non-null object\n",
      "state_code      29790 non-null object\n",
      "time_slot_id    35 non-null object\n",
      "title           13 non-null object\n",
      "tot_cred        13 non-null float64\n",
      "year            52 non-null float64\n",
      "dtypes: float64(10), object(30)\n",
      "memory usage: 9.4+ MB\n"
     ]
    },
    {
     "name": "stderr",
     "output_type": "stream",
     "text": [
      "C:\\Anaconda3\\Lib\\site-packages\\numpy\\lib\\function_base.py:3834: RuntimeWarning: Invalid value encountered in percentile\n",
      "  RuntimeWarning)\n"
     ]
    },
    {
     "data": {
      "text/html": [
       "<div>\n",
       "<table border=\"1\" class=\"dataframe\">\n",
       "  <thead>\n",
       "    <tr style=\"text-align: right;\">\n",
       "      <th></th>\n",
       "      <th>budget</th>\n",
       "      <th>capacity</th>\n",
       "      <th>credits</th>\n",
       "      <th>end_hr</th>\n",
       "      <th>end_min</th>\n",
       "      <th>salary</th>\n",
       "      <th>start_hr</th>\n",
       "      <th>start_min</th>\n",
       "      <th>tot_cred</th>\n",
       "      <th>year</th>\n",
       "    </tr>\n",
       "  </thead>\n",
       "  <tbody>\n",
       "    <tr>\n",
       "      <th>count</th>\n",
       "      <td>7.000000</td>\n",
       "      <td>5.00000</td>\n",
       "      <td>13.000000</td>\n",
       "      <td>20.000000</td>\n",
       "      <td>20.000000</td>\n",
       "      <td>12.000000</td>\n",
       "      <td>20.000000</td>\n",
       "      <td>20.00000</td>\n",
       "      <td>13.000000</td>\n",
       "      <td>52.000000</td>\n",
       "    </tr>\n",
       "    <tr>\n",
       "      <th>mean</th>\n",
       "      <td>85000.000000</td>\n",
       "      <td>132.00000</td>\n",
       "      <td>3.384615</td>\n",
       "      <td>11.750000</td>\n",
       "      <td>48.000000</td>\n",
       "      <td>74833.333333</td>\n",
       "      <td>11.450000</td>\n",
       "      <td>6.00000</td>\n",
       "      <td>65.692308</td>\n",
       "      <td>2009.480769</td>\n",
       "    </tr>\n",
       "    <tr>\n",
       "      <th>std</th>\n",
       "      <td>22173.557826</td>\n",
       "      <td>206.92994</td>\n",
       "      <td>0.506370</td>\n",
       "      <td>2.788605</td>\n",
       "      <td>4.701623</td>\n",
       "      <td>16055.774002</td>\n",
       "      <td>2.742934</td>\n",
       "      <td>12.31174</td>\n",
       "      <td>34.649157</td>\n",
       "      <td>0.504505</td>\n",
       "    </tr>\n",
       "    <tr>\n",
       "      <th>min</th>\n",
       "      <td>50000.000000</td>\n",
       "      <td>10.00000</td>\n",
       "      <td>3.000000</td>\n",
       "      <td>8.000000</td>\n",
       "      <td>30.000000</td>\n",
       "      <td>40000.000000</td>\n",
       "      <td>8.000000</td>\n",
       "      <td>0.00000</td>\n",
       "      <td>0.000000</td>\n",
       "      <td>2009.000000</td>\n",
       "    </tr>\n",
       "    <tr>\n",
       "      <th>25%</th>\n",
       "      <td>NaN</td>\n",
       "      <td>NaN</td>\n",
       "      <td>NaN</td>\n",
       "      <td>NaN</td>\n",
       "      <td>NaN</td>\n",
       "      <td>NaN</td>\n",
       "      <td>NaN</td>\n",
       "      <td>NaN</td>\n",
       "      <td>NaN</td>\n",
       "      <td>NaN</td>\n",
       "    </tr>\n",
       "    <tr>\n",
       "      <th>50%</th>\n",
       "      <td>NaN</td>\n",
       "      <td>NaN</td>\n",
       "      <td>NaN</td>\n",
       "      <td>NaN</td>\n",
       "      <td>NaN</td>\n",
       "      <td>NaN</td>\n",
       "      <td>NaN</td>\n",
       "      <td>NaN</td>\n",
       "      <td>NaN</td>\n",
       "      <td>NaN</td>\n",
       "    </tr>\n",
       "    <tr>\n",
       "      <th>75%</th>\n",
       "      <td>NaN</td>\n",
       "      <td>NaN</td>\n",
       "      <td>NaN</td>\n",
       "      <td>NaN</td>\n",
       "      <td>NaN</td>\n",
       "      <td>NaN</td>\n",
       "      <td>NaN</td>\n",
       "      <td>NaN</td>\n",
       "      <td>NaN</td>\n",
       "      <td>NaN</td>\n",
       "    </tr>\n",
       "    <tr>\n",
       "      <th>max</th>\n",
       "      <td>120000.000000</td>\n",
       "      <td>500.00000</td>\n",
       "      <td>4.000000</td>\n",
       "      <td>16.000000</td>\n",
       "      <td>50.000000</td>\n",
       "      <td>95000.000000</td>\n",
       "      <td>16.000000</td>\n",
       "      <td>30.00000</td>\n",
       "      <td>120.000000</td>\n",
       "      <td>2010.000000</td>\n",
       "    </tr>\n",
       "  </tbody>\n",
       "</table>\n",
       "</div>"
      ],
      "text/plain": [
       "              budget   capacity    credits     end_hr    end_min  \\\n",
       "count       7.000000    5.00000  13.000000  20.000000  20.000000   \n",
       "mean    85000.000000  132.00000   3.384615  11.750000  48.000000   \n",
       "std     22173.557826  206.92994   0.506370   2.788605   4.701623   \n",
       "min     50000.000000   10.00000   3.000000   8.000000  30.000000   \n",
       "25%              NaN        NaN        NaN        NaN        NaN   \n",
       "50%              NaN        NaN        NaN        NaN        NaN   \n",
       "75%              NaN        NaN        NaN        NaN        NaN   \n",
       "max    120000.000000  500.00000   4.000000  16.000000  50.000000   \n",
       "\n",
       "             salary   start_hr  start_min    tot_cred         year  \n",
       "count     12.000000  20.000000   20.00000   13.000000    52.000000  \n",
       "mean   74833.333333  11.450000    6.00000   65.692308  2009.480769  \n",
       "std    16055.774002   2.742934   12.31174   34.649157     0.504505  \n",
       "min    40000.000000   8.000000    0.00000    0.000000  2009.000000  \n",
       "25%             NaN        NaN        NaN         NaN          NaN  \n",
       "50%             NaN        NaN        NaN         NaN          NaN  \n",
       "75%             NaN        NaN        NaN         NaN          NaN  \n",
       "max    95000.000000  16.000000   30.00000  120.000000  2010.000000  "
      ]
     },
     "execution_count": 3,
     "metadata": {},
     "output_type": "execute_result"
    }
   ],
   "source": [
    "df.info()\n",
    "df.describe()"
   ]
  },
  {
   "cell_type": "markdown",
   "metadata": {},
   "source": [
    "# MongoDB Setup and Kung Fu\n",
    "<hr>\n",
    "___Found this link very helpful into ensuring an operating MongoDB___:\n",
    "* _http://stackoverflow.com/questions/26585433/mongodb-failed-to-connect-to-127-0-0-127017-reason-errno10061_"
   ]
  },
  {
   "cell_type": "code",
   "execution_count": 70,
   "metadata": {
    "collapsed": false
   },
   "outputs": [
    {
     "data": {
      "text/plain": [
       "<pymongo.results.InsertManyResult at 0x9ae86c0>"
      ]
     },
     "execution_count": 70,
     "metadata": {},
     "output_type": "execute_result"
    }
   ],
   "source": [
    "#Initialize the MongoDB Connection and database\n",
    "client = mdb.MongoClient('localhost')\n",
    "db = client.university\n",
    "\n",
    "#Take my DataFrame and insert the whole thing in one go\n",
    "db.university.insert_many(df.to_dict('records'))\n"
   ]
  },
  {
   "cell_type": "code",
   "execution_count": 81,
   "metadata": {
    "collapsed": false
   },
   "outputs": [
    {
     "name": "stdout",
     "output_type": "stream",
     "text": [
      "Wu:  Finance 90000.0\n",
      "Einstein:  Physics 95000.0\n",
      "Gold:  Physics 87000.0\n",
      "Katz:  Comp. Sci. 75000.0\n",
      "Singh:  Finance 80000.0\n",
      "Brandt:  Comp. Sci. 92000.0\n",
      "Kim:  Elec. Eng. 80000.0\n",
      "Wu:  Finance 90000.0\n",
      "Einstein:  Physics 95000.0\n",
      "Gold:  Physics 87000.0\n",
      "Katz:  Comp. Sci. 75000.0\n",
      "Singh:  Finance 80000.0\n",
      "Brandt:  Comp. Sci. 92000.0\n",
      "Kim:  Elec. Eng. 80000.0\n",
      "Wu:  Finance 90000.0\n",
      "Einstein:  Physics 95000.0\n",
      "Gold:  Physics 87000.0\n",
      "Katz:  Comp. Sci. 75000.0\n",
      "Singh:  Finance 80000.0\n",
      "Brandt:  Comp. Sci. 92000.0\n",
      "Kim:  Elec. Eng. 80000.0\n"
     ]
    }
   ],
   "source": [
    "#Query in MongoDB that finds all the salaries above the Mean\n",
    "mongCur = db.university.aggregate([\n",
    "    {'$match': {\"salary\":{\"$gte\":74833.333333}}}\n",
    "    ])\n",
    "            \n",
    "for result in mongCur:\n",
    "    print(result['name']+': ',result['dept_name'],result['salary'])\n",
    "    "
   ]
  }
 ],
 "metadata": {
  "anaconda-cloud": {},
  "kernelspec": {
   "display_name": "Python [conda root]",
   "language": "python",
   "name": "conda-root-py"
  },
  "language_info": {
   "codemirror_mode": {
    "name": "ipython",
    "version": 3
   },
   "file_extension": ".py",
   "mimetype": "text/x-python",
   "name": "python",
   "nbconvert_exporter": "python",
   "pygments_lexer": "ipython3",
   "version": "3.5.2"
  }
 },
 "nbformat": 4,
 "nbformat_minor": 1
}
